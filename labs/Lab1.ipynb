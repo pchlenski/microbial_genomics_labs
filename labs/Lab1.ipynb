{
 "cells": [
  {
   "cell_type": "markdown",
   "metadata": {},
   "source": [
    "# Microbial Genomics: Laboratory 1\n",
    "## Topic: Working with strings and string finding algorithms\n",
    "#### Tools used: Anaconda, Jupyter notebook"
   ]
  },
  {
   "cell_type": "code",
   "execution_count": 1,
   "metadata": {},
   "outputs": [],
   "source": [
    "## Compatibility code for running in Google Colab - feel free to ignore\n",
    "import os\n",
    "\n",
    "if \"colab\" in str(get_ipython()):\n",
    "    from google.colab import drive\n",
    "\n",
    "    drive.mount(\"/content/drive\")\n",
    "    os.chdir(\"/content/drive/My Drive/microbial_genomics_labs/labs\")"
   ]
  },
  {
   "cell_type": "markdown",
   "metadata": {},
   "source": [
    "## Part A: Exercises (10 pts)\n",
    "Python is the most commonly used language for bioinformatic analysis because it easily works with strings and is very interactive in nature. We will be using Python for many topics in this course, and so it’s important to (re)familiarize yourself with the basics. As with all programming, an understanding of basic syntax should allow you to use available online resources to implement more complex logic.\n",
    "\n",
    "All Python documentation can be found [here](https://docs.python.org/3/)."
   ]
  },
  {
   "cell_type": "markdown",
   "metadata": {},
   "source": [
    "### Exercise 1: Variable types and simple math operators (1 pt)\n",
    "* Variables will not automatically display on the command line. Re-enter the variable name to examine the value stored in it\n",
    "* Typical variable naming rules apply\n",
    "* Single equal sign assigns variable name\n",
    "* To execute a cell: shift+return"
   ]
  },
  {
   "cell_type": "code",
   "execution_count": 2,
   "metadata": {},
   "outputs": [],
   "source": [
    "## Some examples variable assignments using different data types\n",
    "\n",
    "my_string = \"This is a string\"\n",
    "my_int = 10\n",
    "my_int2 = 10 + 20\n",
    "my_list = [\"cat\", \"dog\", \"duck\"]\n",
    "my_dict = {\"Biology\": 80, \"Chemistry\": 75, \"Physics\": 30}"
   ]
  },
  {
   "cell_type": "markdown",
   "metadata": {},
   "source": [
    "Practice\n",
    "1. Define one new variable of each type (string, integer, list) below\n",
    "2. Define three new variables using each operation: addition, subtraction, and multiplication, respectively. These can be found in Built-in Types --> Numeric Types in the documentation above.\n",
    "3. Define a dictionary of any number of cities (keys) and associated states (values), and practice calling it using the key"
   ]
  },
  {
   "cell_type": "code",
   "execution_count": null,
   "metadata": {},
   "outputs": [],
   "source": [
    "# Practice for exercise 1"
   ]
  },
  {
   "cell_type": "markdown",
   "metadata": {},
   "source": [
    "### Exercise 2: Common and useful functions (1 pt)\n",
    "* Python functions are called by parentheses\n",
    "* [Built-in functions](https://docs.python.org/3/library/functions.html) perform useful operations such as math (rounding, absolute value, etc.), and string (number of characters, concatenation, splitting, etc.) operations. Each variable type has its own type of built-in functions that can be found in the documentation under the corresponding Type."
   ]
  },
  {
   "cell_type": "code",
   "execution_count": null,
   "metadata": {},
   "outputs": [],
   "source": [
    "## For numbers:\n",
    "myNum = -20.4\n",
    "\n",
    "# Round myNum and print the resulting value\n",
    "round_num = round(myNum)\n",
    "print(round_num)\n",
    "# Find the absolute value of myNum and print the resulting value\n",
    "pos = abs(myNum)\n",
    "print(pos)"
   ]
  },
  {
   "cell_type": "code",
   "execution_count": null,
   "metadata": {},
   "outputs": [],
   "source": [
    "## For strings:\n",
    "strng = \"A dog with a cat with a dog\"\n",
    "\n",
    "# Print the string\n",
    "print(strng)\n",
    "# Find the length of the string and print it\n",
    "print(len(strng))\n",
    "# Replace 'dog' with 'fish' and print the resulting string\n",
    "str2 = strng.replace(\"dog\", \"fish\")\n",
    "print(str2)\n",
    "# Split str into a list of strings split by spaces\n",
    "str_list = strng.split(\" \")\n",
    "print(str_list)"
   ]
  },
  {
   "cell_type": "markdown",
   "metadata": {},
   "source": [
    "Practice\n",
    "\n",
    "Define a new string or list of strings (your choice). Choose any three string functions from the documentation that we didn't use above and implement them below."
   ]
  },
  {
   "cell_type": "code",
   "execution_count": null,
   "metadata": {},
   "outputs": [],
   "source": [
    "# Practice for exercise 2"
   ]
  },
  {
   "cell_type": "markdown",
   "metadata": {},
   "source": [
    "### Exercise 3: Control logic (2 pts)\n",
    "* As with any language, Python uses relational and boolean operators to implement logical statements\n",
    "* Python uses tabs to indicate an open control structure (if statement, for loop, or user-defined function)\n",
    "* Initating control structures require a colon at the end of the first line"
   ]
  },
  {
   "cell_type": "code",
   "execution_count": null,
   "metadata": {},
   "outputs": [],
   "source": [
    "## Relational operators:\n",
    "out1 = 4 == 4  # 4 equals 4\n",
    "print(out1)\n",
    "out2 = 10 > 5  # 10 is greater than 5\n",
    "print(out2)\n",
    "out3 = 10 != 5  # 10 is not equal to 5\n",
    "print(out3)\n",
    "out4 = \"dog\" != \"fish\"\n",
    "print(out4)"
   ]
  },
  {
   "cell_type": "code",
   "execution_count": null,
   "metadata": {},
   "outputs": [],
   "source": [
    "## Boolean operators:\n",
    "bool1 = out2 and out1\n",
    "print(bool1)\n",
    "bool2 = out2 and not out1\n",
    "print(bool2)"
   ]
  },
  {
   "cell_type": "code",
   "execution_count": null,
   "metadata": {},
   "outputs": [],
   "source": [
    "## Control flow (if/else, for)\n",
    "\n",
    "# if statements\n",
    "if out2 and out1:\n",
    "    print(\"This if statement is true!\")\n",
    "\n",
    "# if else-if statements\n",
    "if out1 and not out2:\n",
    "    print(\"This first statement is true!\")\n",
    "elif out1 or out3:\n",
    "    print(\"This second statement is true!\")\n",
    "\n",
    "# for loops: what is this loop doing?\n",
    "food_list = [\"apple\", \"carrot\", \"chocolate\", \"jam\", \"eggs\", \"salmon\"]\n",
    "count = 1\n",
    "for item in food_list:\n",
    "    if item == \"carrot\":\n",
    "        print(\"Item number \" + str(count))\n",
    "        break\n",
    "    else:\n",
    "        count = count + 1"
   ]
  },
  {
   "cell_type": "code",
   "execution_count": null,
   "metadata": {},
   "outputs": [],
   "source": [
    "## Functions\n",
    "\n",
    "\n",
    "# Make a function that takes in a DNA sequence and returns the reverse complement\n",
    "def reverse_comp(sequence):\n",
    "    DNA_dict = {\"A\": \"T\", \"T\": \"A\", \"G\": \"C\", \"C\": \"G\"}\n",
    "    comp_sequence = []\n",
    "    for nucleotide in sequence:\n",
    "        comp_sequence.append(DNA_dict[nucleotide])\n",
    "    output = \"\".join(reversed(comp_sequence))\n",
    "    return output\n",
    "\n",
    "\n",
    "sequence = \"ACCGTC\"\n",
    "revcom_seq = reverse_comp(sequence)\n",
    "print(\"Reverse complemented sequence: \" + revcom_seq)"
   ]
  },
  {
   "cell_type": "markdown",
   "metadata": {},
   "source": [
    "Practice\n",
    "1. Use relational operators to determine if 10 is less than 20\n",
    "2. Make your own if/elif/else statement that uses both number comparisons and string comparisons\n",
    "3. Write a for loop that iterates through characters of the generic DNA sequence AGCCTAT, and creates a new sequence consisting only of the A's and T's in the order they originally occur"
   ]
  },
  {
   "cell_type": "code",
   "execution_count": null,
   "metadata": {},
   "outputs": [],
   "source": [
    "# Practice for exercise 3"
   ]
  },
  {
   "cell_type": "markdown",
   "metadata": {},
   "source": [
    "### Exercise 4: List indexing and comprehensions (2 pts)\n",
    "* List comprehensions are ways to more concisely write logic that generates a list\n",
    "* Indexing in Python begins at 0\n",
    "* Indexing in Python uses square brackets\n",
    "* List comprehensions are always defined with external brackets"
   ]
  },
  {
   "cell_type": "code",
   "execution_count": null,
   "metadata": {},
   "outputs": [],
   "source": [
    "## Working with lists\n",
    "\n",
    "# Create a list\n",
    "fruits = [\"orange\", \"apple\", \"pear\", \"banana\", \"kiwi\", \"apple\", \"banana\"]\n",
    "# Display the first item in the list\n",
    "print(fruits[0])\n",
    "# Print first two elements of fruits\n",
    "print(fruits[0:2])\n",
    "# Display the last item in the list\n",
    "print(fruits[-1])\n",
    "# Display every other fruit in the list\n",
    "print(fruits[0 : len(fruits) : 2])\n",
    "print(fruits[::2])\n",
    "# Insert grapes into second position\n",
    "fruits.insert(1, \"grapes\")\n",
    "print(fruits)"
   ]
  },
  {
   "cell_type": "code",
   "execution_count": null,
   "metadata": {},
   "outputs": [],
   "source": [
    "## Create a list comprehension\n",
    "\n",
    "# Create a list of perfect squares from 0 to 9\n",
    "squares = [x**2 for x in range(10)]\n",
    "print(squares)\n",
    "# Create a new list for all pairs of x and y where the two don't equal each other\n",
    "[(x, y) for x in [1, 2, 3] for y in [3, 1, 4] if x != y]"
   ]
  },
  {
   "cell_type": "markdown",
   "metadata": {},
   "source": [
    "Practice\n",
    "1. Define a list of 5 vegetables\n",
    "2. Append eggplant to the end of your list\n",
    "3. Display thesecond, third and fourth elements of your list\n",
    "4. Re-define fruits as above, and use list comprehension to create a new list of fruits only containing fruits that start with a vowel"
   ]
  },
  {
   "cell_type": "code",
   "execution_count": null,
   "metadata": {},
   "outputs": [],
   "source": [
    "# Practice for exercise 4"
   ]
  },
  {
   "cell_type": "markdown",
   "metadata": {},
   "source": [
    "### Exercise 5: Data input/output (2 pts)\n",
    "* Never open a file without closing it\n",
    "* To avoid forgetting to close files and corrupting the content, use 'with' and 'open' to open files instead\n",
    "* Files can be opened as read only ('r'), writing a new one ('w'), or appending an exisitng one ('a')\n",
    "* 'write' will store a file as any common file type as long as the extension is specified ('txt','xlsx','csv',etc.)\n",
    "* \"\\n\" adds a new line"
   ]
  },
  {
   "cell_type": "code",
   "execution_count": null,
   "metadata": {},
   "outputs": [],
   "source": [
    "## Working with files\n",
    "\n",
    "# opening a file\n",
    "filename = \"lab1/test.txt\"\n",
    "grocery_list = [\"apple\", \"banana\", \"orange\"]\n",
    "with open(filename, \"w\") as f:\n",
    "    for fruit in grocery_list:\n",
    "        f.write(fruit + \"\\n\")\n",
    "\n",
    "with open(filename, \"r\") as f:\n",
    "    for line in f:\n",
    "        print(line)"
   ]
  },
  {
   "cell_type": "code",
   "execution_count": null,
   "metadata": {},
   "outputs": [],
   "source": [
    "# just so we can see that the file exists outside python...\n",
    "!cat lab1/test.txt"
   ]
  },
  {
   "cell_type": "markdown",
   "metadata": {},
   "source": [
    "Practice\n",
    "1. Open test.txt to append\n",
    "2. Add 5 more fruits to the document and save the resulting file"
   ]
  },
  {
   "cell_type": "code",
   "execution_count": null,
   "metadata": {},
   "outputs": [],
   "source": [
    "# Practice for exercise 5"
   ]
  },
  {
   "cell_type": "markdown",
   "metadata": {},
   "source": [
    "### Exercise 6: Running scripts externally (2 pts)\n",
    "* Importing libraries is a useful way expand Python functionalities. Argument parsing is one of those that exists in a separate package called argparse\n",
    "* Import statements, such as 'import argparse', goes at the top of a script\n",
    "* Arguments are defined in the order they are passed into the script by default\n",
    "* Follow the syntax in reverse_complement.py \n",
    "* To create strings with multiple variable types, use .format (see example below)\n",
    "* To access arguments, use options.<argument_name> as defined in the get_options() function\n",
    "* if __name__ == \"__main__\": is the python standard syntax to run a program from an external call "
   ]
  },
  {
   "cell_type": "code",
   "execution_count": null,
   "metadata": {},
   "outputs": [],
   "source": [
    "## Print a string with string formatting\n",
    "\n",
    "fruits = ['apples','bananas']\n",
    "string = \"I love to eat {} and {}\".format(fruits[0],fruits[1])\n",
    "print(string)\n",
    "## Calling a python script from Jupyter\n",
    "seq = \"ACGGTGC\"\n",
    "%run lab1/reverse_complement.py \"$seq\"\n",
    "\n",
    "## PRACTICE: Open up reverse_complement.py and walk through it - \n",
    "## which aspects are unique to this script, and which are general that \n",
    "## you should use every time you write a python script and call from Jupyter?\n",
    "## Get a feel for the syntax! You'll need it in the homework, so play around with the code\n",
    "## and try things out"
   ]
  },
  {
   "cell_type": "markdown",
   "metadata": {},
   "source": [
    "## Part B: Homework exercises (30 pts)"
   ]
  },
  {
   "cell_type": "markdown",
   "metadata": {},
   "source": [
    "### Question 1: Pattern matching (6 pts)\n",
    "\n",
    "Write an external python script that takes in any arbitrary DNA sequence `s` with only A's, C's, G's, and T's, as well as an arbitary pattern `p` of length between 3 and length of `s`. The script should count the number of times the pattern appears within the sequence, including overlaps, and print the number of matches it finds. \n",
    "\n",
    "Demonstrate your script works by using the following variables, and calling it from within your jupyter notebook:\n",
    "\n",
    "`sequence = \"ATTTGCGATAATTATAGCGATATACCCTG\"`\n",
    "\n",
    "`pattern = \"ATA\"`"
   ]
  },
  {
   "cell_type": "code",
   "execution_count": null,
   "metadata": {},
   "outputs": [],
   "source": [
    "# Question 1"
   ]
  },
  {
   "cell_type": "markdown",
   "metadata": {},
   "source": [
    "### Question 2: Hamming distance (6 pts)\n",
    "\n",
    "The Hamming distance between two strings having the same length is the minimum number of symbol substitutions required to transform one string into the other. If two strings are given by `s1` and `s2`, then we write the Hamming distance between them as `dH(s1,s2)`. For example, if `s1=ATTA` and `s2=ATTG`, `dH(s1,s2)=1`. \n",
    "\n",
    "Write an external python script that computes the hamming distance between two strings of the same length, and prints the distance as the output. \n",
    "\n",
    "Demonstrate your script works by using the following two sequences, and calling it from within your jupyter notebook:\n",
    "\n",
    "`sequence1 = \"ATTCGCTGCAAATGCTT\"`\n",
    "\n",
    "`sequence2 = \"AATCTGTGCATAACCTT\"`"
   ]
  },
  {
   "cell_type": "code",
   "execution_count": null,
   "metadata": {},
   "outputs": [],
   "source": [
    "# Question 2"
   ]
  },
  {
   "cell_type": "markdown",
   "metadata": {},
   "source": [
    "### Question 3: Reverse with list comprehensions (6 pts)\n",
    "\n",
    "Re-write the reverse complement function from exercise 6 above using list comprehension syntax (i.e. not in the separate script), and demonstrate that it works by reverse-complementing the same sequence we used before. This can be done below, and does not need to be in a separate script."
   ]
  },
  {
   "cell_type": "code",
   "execution_count": null,
   "metadata": {},
   "outputs": [],
   "source": [
    "# Question 3"
   ]
  },
  {
   "cell_type": "markdown",
   "metadata": {},
   "source": [
    "### Question 4: DNA manipulation (6 pts)\n",
    "\n",
    "Bacterial chromosomes have a single origin of replication that indicates where polymerases should bind for initiating replication. These are called _dnaA_ boxes, and are typically ~1000 bp long. dnaA boxes contain short repeated segments of DNA, called _k_-mers, that specify polymerase binding sites, where _k_ is the number of nucleotides in the repeated region, i.e. a 3-mer contains 3 nucleotides.  \n",
    "\n",
    "The _dnaA_ box of Vibrio cholerae is found in `lab1/dnaA.txt`. Write code in your Jupyter notebook below to do the following:\n",
    "1. Open the file and append each line to obtain a single continuous DNA sequence\n",
    "2. Search for all unique _k_-mers between the lengths of 3 and 20 nucleotides long\n",
    "3. Count the number of times each unique _k_-mer appears in the _dnaA_ sequence, and determine the most commonly occurring _k_-mer\n",
    "4. Print the most commonly occuring _k_-mer, and the number of times it appears"
   ]
  },
  {
   "cell_type": "code",
   "execution_count": null,
   "metadata": {},
   "outputs": [],
   "source": [
    "# Question 4"
   ]
  },
  {
   "cell_type": "markdown",
   "metadata": {},
   "source": [
    "### Question 5: Approximate _k_-mers (6 pts)\n",
    "\n",
    "Often times k-mer repeats are almost identical, but not exact. How would you update your code from Q#4 to allow for X number of mismatches? \n",
    "\n",
    "Provide your answer as a comment in the cell below, being specific about the logic you would use."
   ]
  },
  {
   "cell_type": "code",
   "execution_count": null,
   "metadata": {},
   "outputs": [],
   "source": [
    "# Question 5"
   ]
  }
 ],
 "metadata": {
  "kernelspec": {
   "display_name": "Python 3",
   "language": "python",
   "name": "python3"
  },
  "language_info": {
   "codemirror_mode": {
    "name": "ipython",
    "version": 3
   },
   "file_extension": ".py",
   "mimetype": "text/x-python",
   "name": "python",
   "nbconvert_exporter": "python",
   "pygments_lexer": "ipython3",
   "version": "3.9.13"
  }
 },
 "nbformat": 4,
 "nbformat_minor": 2
}
