{
 "cells": [
  {
   "cell_type": "markdown",
   "metadata": {},
   "source": [
    "# Microbial Genomics: Lab 2\n",
    "## Topic: Working with databases and biopython\n",
    "#### Tools used: Biopython"
   ]
  },
  {
   "cell_type": "markdown",
   "metadata": {},
   "source": [
    "## Part A: Lab Exercises"
   ]
  },
  {
   "cell_type": "markdown",
   "metadata": {},
   "source": [
    "### Exercise 1: Navigating NCBI on the Web"
   ]
  },
  {
   "attachments": {},
   "cell_type": "markdown",
   "metadata": {},
   "source": [
    "NCBI, or the National Center for Biotechnology Information, is part of the NIH. It provides tools, databases, and analysis services to researchers across the world, and has made much of modern Bioinformatics possible. To start this lab, we're going to perform a common workflow of searching for a known gene and retrieving some information about that gene.\n",
    "\n",
    "Start by navigating to the Genbank database on NCBI: https://www.ncbi.nlm.nih.gov/genbank/. Perform the following steps:\n",
    "1. Change the database dropdown menu to 'Gene' \n",
    "2. Type acrA in the top search bar -> enter\n",
    "2. Click on Salmonella enterica on the right\n",
    "3. Click on the gene name acrA\n",
    "\n",
    "Answer the following questions in the markdown cell below, based on the information on this and linked pages (use the cell below to type your answers):\n",
    "1. What does *acrA* do?\n",
    "2. Scroll to NCBI RefSeq, click on FASTA, and then click on Genbank. What is the difference between this page and the previous one?\n",
    "3. How many nucleotides does this *acrA* have?\n",
    "4. Click around to see if you can get to the protein sequence. How many amino acids does it have?\n",
    "5. Click on the protein ID if you haven’t already and then look at the FASTA sequence. How does it differ from the nucleotide sequence?\n",
    "6. What database are we in?\n",
    "7. Go back to the genbank *acrA* page and find the reference sequence accession ID from where the gene came from. This should start with NC. What’s the difference?\n",
    "8. Describe at least two other accession IDs you see, and what they link to"
   ]
  },
  {
   "attachments": {},
   "cell_type": "markdown",
   "metadata": {},
   "source": [
    "[Your response goes here]"
   ]
  },
  {
   "cell_type": "markdown",
   "metadata": {},
   "source": [
    "### Exercise 2: Navigating NCBI on the command line\n",
    "Biopython is a Python suite of packages that allows for easy navigation of NCBI and other common public databases. It also includes tools to process common formats and file types that we encounter with genomic sequencing data. \n",
    "* To work with Biopython tools, it must first be imported. The module is called Bio when importing: `import Bio`\n",
    "* The entire Bio library is large; to only import specific modules, the syntax is `from Bio import X`\n",
    "* The [Biopython tutorial](http://biopython.org/DIST/docs/tutorial/Tutorial.html) is indispensible when working with any of these tools. Bookmark it and use it often!\n",
    "* Another incredibly useful resource is the [Biopython API documentation](https://biopython.org/docs/1.75/api/index.html). This has very granular detail on exactly what makes up each and every module and object within Biopython.\n",
    "\n",
    "In this part of the lab, we will step through common Biopython commands and features. In the take home lab report, you will use Biopython to analyze your own DNA sequence."
   ]
  },
  {
   "cell_type": "code",
   "execution_count": null,
   "metadata": {},
   "outputs": [],
   "source": [
    "# First, let's import and check the help() function for a few pieces of Biopython\n",
    "# The seqIO module from Biopython provides functions to easily prase nucleotide or amino acid sequence strings\n",
    "from Bio import SeqIO\n",
    "# The help function provides useful documentation on how to use SeqIO\n",
    "##help(SeqIO)\n",
    "# One of the most useful tools within SeqIO is parse\n",
    "help(SeqIO.parse)"
   ]
  },
  {
   "attachments": {},
   "cell_type": "markdown",
   "metadata": {},
   "source": [
    "Now, lets try to read, write and parse some common file formats.\n",
    "\n",
    "The file `acrA.fasta` contains 3 acrA nucleotide sequences in the commonly used multi-fasta file format. We can use `seqIO.parse()` to separate the records and evaluate them individually."
   ]
  },
  {
   "cell_type": "code",
   "execution_count": null,
   "metadata": {},
   "outputs": [],
   "source": [
    "# Count the number of records in acrA.fasta\n",
    "filename = \"lab2/acrA.fasta\"\n",
    "count = 0\n",
    "for record in SeqIO.parse(filename,\"fasta\"):\n",
    "    count = count + 1\n",
    "print(\"There are \" + str(count) + \" records in file \" + filename)"
   ]
  },
  {
   "cell_type": "code",
   "execution_count": null,
   "metadata": {},
   "outputs": [],
   "source": [
    "# Store the species name for each record (2 examples)\n",
    "species = []\n",
    "for record in SeqIO.parse(filename,\"fasta\"):\n",
    "    species.append(record.description.split(' ',1)[1])\n",
    "print(species)\n",
    "\n",
    "species = []\n",
    "for record in SeqIO.parse(filename,\"fasta\"):\n",
    "    species.append(' '.join(record.description.split(' ')[1:3]))\n",
    "print(species)"
   ]
  },
  {
   "cell_type": "code",
   "execution_count": null,
   "metadata": {},
   "outputs": [],
   "source": [
    "# Examining the sequences\n",
    "for record in SeqIO.parse(filename, \"fasta\"):\n",
    "    start_seq = record.seq[:10] # first 10 letters\n",
    "    end_seq = record.seq[-10:] # last 10 letters\n",
    "    print(record.id + \" \" + start_seq + \"...\" + end_seq)"
   ]
  },
  {
   "cell_type": "markdown",
   "metadata": {},
   "source": [
    "Some types of bioinformatic data includes what is called a feature (or multiple features). These often contain the information of most interest, such as gene function, location, homologies, etc. Lets look at one such example."
   ]
  },
  {
   "cell_type": "code",
   "execution_count": null,
   "metadata": {},
   "outputs": [],
   "source": [
    "# Unlike fasta files, most of of the times genbank files only have single\n",
    "# records. So we can use the SeqIO.read function\n",
    "from Bio import SeqIO\n",
    "record = SeqIO.read(\"lab2/acrA.gb\",\"genbank\")\n",
    "# print(record.id)\n",
    "# print(record.seq)\n",
    "print(record.features)"
   ]
  },
  {
   "cell_type": "markdown",
   "metadata": {},
   "source": [
    "We can also use Biopython to download sequences from NCBI, which is extremely useful, especially when we have lists of hundreds or thousands of sequences to fetch.\n",
    "\n",
    "The `efetch` module is what you use when you want to retrieve a full record from Entrez. Below we only go through one example of database and file type; the rest can be found as described on the main EFetch Help page:\n",
    "* https://www.ncbi.nlm.nih.gov/books/NBK25499/#chapter4.EFetch \n",
    "* https://www.ncbi.nlm.nih.gov/books/NBK25499/table/chapter4.T._valid_values_of__retmode_and/?report=objectonly"
   ]
  },
  {
   "cell_type": "code",
   "execution_count": null,
   "metadata": {},
   "outputs": [],
   "source": [
    "# Download the sequence with EU490707 accession ID from the nucleotide database in a genbank format\n",
    "from Bio import SeqIO\n",
    "from Bio import Entrez\n",
    "Entrez.email = \"pac@columbia.edu\"  # Always tell NCBI who you are\n",
    "handle = Entrez.efetch(db=\"nucleotide\", id=\"EU490707\", rettype=\"gbwithparts\", retmode=\"text\")\n",
    "record = SeqIO.read(handle, \"genbank\")\n",
    "handle.close()\n",
    "print(record.id)"
   ]
  },
  {
   "cell_type": "code",
   "execution_count": null,
   "metadata": {},
   "outputs": [],
   "source": [
    "# Write downloaded genbank information into a file\n",
    "output_filename = \"lab2/EU490707.gb\"\n",
    "SeqIO.write(record, output_filename, \"genbank\")"
   ]
  },
  {
   "attachments": {},
   "cell_type": "markdown",
   "metadata": {},
   "source": [
    "Now it's your turn! **Using the analysis from above, and the biopython documentation, do the following in the cell below:**\n",
    "1. Print the first feature in `acrA.gb`\n",
    "2. Determine and print the organism that the first feature of `acrA.gb` came from\n",
    "3. Determine and print the length of the each sequence of *acrA* from the `acrA.fasta` file\n",
    "4. Write a piece of code to calculate and print the total length of all sequences in the file"
   ]
  },
  {
   "cell_type": "code",
   "execution_count": null,
   "metadata": {},
   "outputs": [],
   "source": [
    "# Exercise 2"
   ]
  },
  {
   "cell_type": "markdown",
   "metadata": {},
   "source": [
    "## Part B: Homework"
   ]
  },
  {
   "attachments": {},
   "cell_type": "markdown",
   "metadata": {},
   "source": [
    "### Question 1\n",
    "Download and store gb files for each genome in the `accession_IDs` list defined below. Make sure to use your own email address!"
   ]
  },
  {
   "cell_type": "code",
   "execution_count": null,
   "metadata": {},
   "outputs": [],
   "source": [
    "# Question 1\n",
    "accession_IDs = [\"NZ_CP018816.1\",\"NZ_CP020061.1\",\"NZ_CP020071.1\"] "
   ]
  },
  {
   "attachments": {},
   "cell_type": "markdown",
   "metadata": {},
   "source": [
    "### Question 2 \n",
    "Read each gb file from Q1 and search for *acrA* gene; concatenate all *acrA* genes into a multi-fasta file using any method; and save the file"
   ]
  },
  {
   "cell_type": "code",
   "execution_count": null,
   "metadata": {},
   "outputs": [],
   "source": [
    "# Question 2"
   ]
  },
  {
   "attachments": {},
   "cell_type": "markdown",
   "metadata": {},
   "source": [
    "### Question 3\n",
    "Read in the fasta file and find the genome with the shortest *acrA* sequence. If more than one has the same length, choose any. Print the accession ID of this genome\n"
   ]
  },
  {
   "cell_type": "code",
   "execution_count": null,
   "metadata": {},
   "outputs": [],
   "source": [
    "# Question 3"
   ]
  },
  {
   "attachments": {},
   "cell_type": "markdown",
   "metadata": {},
   "source": [
    "### Question 4:\n",
    "Choose any genbank file that you downloaded above, and convert it into a fasta file"
   ]
  },
  {
   "cell_type": "code",
   "execution_count": null,
   "metadata": {},
   "outputs": [],
   "source": [
    "# Question 4"
   ]
  },
  {
   "attachments": {},
   "cell_type": "markdown",
   "metadata": {},
   "source": [
    "### Question 5: \n",
    "In the markdown cell below, answer the following:\n",
    "1. Describe what a genome accession ID and a gene accession ID is, and how they differ\n",
    "2. What type of data does the Bioproject database on NCBI contain?\n",
    "3. Choose one of the klebsiella genbank files from above, and open it on your computer. What information is not contained in this file that could be found in a different database? \n",
    "4. Given a nucleotide FASTA file, is there enough information to generate the corresponding amino acid FASTA file? How about in the reverse direction (i.e. protein to nucleotide)?\n",
    "5. What is the difference between fasta and fastq file formats?"
   ]
  },
  {
   "attachments": {},
   "cell_type": "markdown",
   "metadata": {},
   "source": [
    "[Your response goes here]"
   ]
  }
 ],
 "metadata": {
  "kernelspec": {
   "display_name": "Python 3",
   "language": "python",
   "name": "python3"
  },
  "language_info": {
   "codemirror_mode": {
    "name": "ipython",
    "version": 3
   },
   "file_extension": ".py",
   "mimetype": "text/x-python",
   "name": "python",
   "nbconvert_exporter": "python",
   "pygments_lexer": "ipython3",
   "version": "3.7.4"
  }
 },
 "nbformat": 4,
 "nbformat_minor": 2
}
