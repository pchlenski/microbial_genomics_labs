{
  "cells": [
    {
      "cell_type": "markdown",
      "id": "pNQ9Wei45BeE",
      "metadata": {
        "id": "pNQ9Wei45BeE"
      },
      "source": [
        "# Microbial Genomics: Lab 5\n",
        "## Topic: Phylogenetic Trees\n",
        "#### Tools used: BLAST, FastTree"
      ]
    },
    {
      "cell_type": "code",
      "execution_count": null,
      "id": "gCcUa-6l5DhH",
      "metadata": {
        "colab": {
          "base_uri": "https://localhost:8080/"
        },
        "id": "gCcUa-6l5DhH",
        "outputId": "969010c5-dcd4-4914-d4d0-75ae51253c3d"
      },
      "outputs": [],
      "source": [
        "# Compatibility code for running in Google Colab - please run but free to ignore\n",
        "import os\n",
        "\n",
        "if \"colab\" in str(get_ipython()):\n",
        "    from google.colab import drive\n",
        "\n",
        "    drive.mount(\"/content/drive\")\n",
        "    os.chdir(\"/content/drive/My Drive/microbial_genomics_labs/labs\")"
      ]
    },
    {
      "cell_type": "code",
      "execution_count": null,
      "id": "oeghSbXP5E7q",
      "metadata": {
        "colab": {
          "base_uri": "https://localhost:8080/"
        },
        "id": "oeghSbXP5E7q",
        "outputId": "1877e462-7b7f-454a-af20-5e444e589726"
      },
      "outputs": [],
      "source": [
        "!pip install biopython\n",
        "!apt install ncbi-blast+ clustalw fasttree -y"
      ]
    },
    {
      "cell_type": "markdown",
      "id": "FAqPzMHY5BeF",
      "metadata": {
        "id": "FAqPzMHY5BeF"
      },
      "source": [
        "## Part A: Lab Exercises (10 pts)\n",
        "### Exercise 1: Understanding Tree Structures & Filetypes\n",
        "In bioinformatics, trees are used for a large range of purposes: to reconstruct evolutionary history, compare multiple species in a study, relate phenotypes to genes, and more. To begin understanding how to use trees to accomplish these feats, we must first understand how they are constructed and stored.\n",
        "\n",
        "Most tree-building algorithms take some kind of aligned sequence file as input:\n",
        "* Aligned fasta: similar to standard fasta file, except the contained sequences are aligned. We worked with these in Lab 3.\n",
        "* PHYLIP: an alternate to aligned fasta files, with both interleaved and de-interleaved versions\n",
        "\n",
        "Both of these formats are text-based, and most alignment tools can output either. We'll often use PHYLIP format to avoid ambiguity with other fasta formats, but feel free to use either throughout this course.\n",
        "\n",
        "Though there are a few different tree output formats, the most common is Newick. A Newick tree file (often using a `.tree` or `.newick` suffix) is a text-based file that contains information about the nodes, edges, and leaves of the tree. It will look something like this:\n",
        "\n",
        "`(A:0.1,B:0.2,(C:0.3,D:0.4):0.5);`\n",
        "\n",
        "This tree has 4 leaves (named `A` through `D`) and includes distances for each branch. A sub-tree appears within parenthesis, and each colon denotes the distance between a leaf (or subtree) and the preceding node. A visual representation would look like this (with each `-` representing 0.1 distance units):\n",
        "```\n",
        "|-A\n",
        "|--B  \n",
        "|     |---C\n",
        "|-----|\n",
        "      |----D\n",
        "```\n",
        "\n",
        "If we added in names for the internal nodes, the tree would look like this:\n",
        "\n",
        "`(A:0.1,B:0.2,(C:0.3,D:0.4)E:0.5)F;`\n",
        "\n",
        "That is, we now have `E` and `F` as internally named nodes:\n",
        "```\n",
        "|-A\n",
        "|--B\n",
        "F     |---C\n",
        "|-----E\n",
        "      |----D\n",
        "```\n",
        "\n",
        "Note that the Newick file will always have all required information to build the structure of the tree, but may or may not contain node names and distances; by convention, the minimal possible tree contained in a Newick file would be `(,,(,));`, i.e., no node names or distances, which would look like:\n",
        "```\n",
        "|-----*\n",
        "|-----*\n",
        "|     |-----*\n",
        "|-----|\n",
        "      |-----*\n",
        "```\n",
        "The branches are all set to an arbitrary length, and the names are left blank. This is technically a valid tree- but it's not very useful.\n",
        "\n",
        "**Use the file `ex_tree.newick` in the `lab5` folder to answer the following questions:**\n",
        "1. How many nodes are in this tree? How many sub-trees? Manually draw the tree out as shown abve.\n",
        "2. Go to the [ETE Toolkit Newick Viewer](http://etetoolkit.org/treeview/) and upload this file. Uncheck \"Resolve Taxonomic IDs\" and select \"Do not display alignment\", then click \"View Tree\". This should display a visualization of your tree. How close was your manually-drawn tree? Based on the node names, what do you think this tree is showing?\n",
        "3. Re-run the same steps from above, but this time check \"Resolve Taxonomic IDs\" and select \"Aligned Blocks\" before clicking \"View Tree\". What is being shown this time? Based on this information, can you tell more accurately what the tree is decribing?"
      ]
    },
    {
      "cell_type": "code",
      "execution_count": null,
      "id": "i7wkk8RW5BeH",
      "metadata": {
        "id": "i7wkk8RW5BeH"
      },
      "outputs": [],
      "source": [
        "# Exercise 1"
      ]
    },
    {
      "cell_type": "markdown",
      "id": "TcgezMVv5BeH",
      "metadata": {
        "id": "TcgezMVv5BeH"
      },
      "source": [
        "### Exercise 2: Using FastTree\n",
        "FastTree is a program that is used to build trees based on aligned sequences using an Maximum Likelihood algorithm (although a full discussion on the implementation is out of scope for this course, you can read more about the algorithm [here](http://www.microbesonline.org/fasttree/)). As inputs, the program takes either an aligned fasta file, or a PHYLIP file, and it outputs a Newick-formatted tree.\n",
        "\n",
        "Running fasttree is relatively simple; at a minimum, you provide it an input alignment and the output target:\n",
        "`fasttree input.aln > output.tree`\n",
        "\n",
        "There are many other options that control different models of tree construction, etc., but we will mostly be using the `-gamma` and `-gtr` execution modes. Note that if performing tree-building on nucleotide sequences, we'll also need to include the `-nt` flag.\n",
        "\n",
        "**Use the short sequences in `lab5/short_seqs.fasta` to complete the following exercise:**\n",
        "1. Align `short_seqs.fasta` using clustalw (or any other alignment tool you'd like). Save the output as a new file, aligned_seqs.phy (using PHYLIP format rather than .aln). Look at [the ClustalW readme](http://www.clustal.org/omega/README) to see how to set the output file format.\n",
        "2. Run `fasttree` on the alignment you generated using the `-nt`, `-gtr` and `-gamma` flags. Save the output to a file called `short_seqs.tree`. Remember to use `%%` at the top of a new cell for access to Bash.\n",
        "3. Open the `short_seqs.tree` file. How many subtrees are there? What is the longest branch in the tree? Based on looking at the raw sequences in `short_seqs.fasta`, which two organisms do you think are furthest away from each other on the tree?\n",
        "4. Visualize the tree using the ETE Viewer used in Exercise 1. Were your answers above correct?"
      ]
    },
    {
      "cell_type": "code",
      "execution_count": null,
      "id": "PU5e4kYp5BeI",
      "metadata": {
        "id": "PU5e4kYp5BeI"
      },
      "outputs": [],
      "source": [
        "# Exercise 2"
      ]
    },
    {
      "cell_type": "code",
      "execution_count": null,
      "id": "E2WP9-jC5BeJ",
      "metadata": {
        "id": "E2WP9-jC5BeJ"
      },
      "outputs": [],
      "source": [
        "%%bash\n",
        "\n",
        "fasttree lab5/short_seqs.phy > lab5/output.tree"
      ]
    },
    {
      "cell_type": "markdown",
      "id": "UYQnpSph5BeJ",
      "metadata": {
        "id": "UYQnpSph5BeJ"
      },
      "source": [
        "### Exercise 3: Tree Rooting & Ancestry\n",
        "The trees we have generated and analysed so far have been \"unrooted\"; that is, they describe how several sequences or organisms relate to each other, but make no assertations about how the sequences got to their current state. However, what if we want to know how a set of organisms evolved over time, and which emerged more recently than others? To do this type of analysis, we need to know which organism (represented by a leaf node in the tree) is the common ancestor of the tree. For example, if we knew that leaf node A was the common ancestor of the tree from above, we could root the tree at that node, which would look like this:\n",
        "```\n",
        "  |--B\n",
        "A-|     |---C\n",
        "  |-----|\n",
        "        |----D\n",
        "```\n",
        "Note that the distances between all of the leaves in the tree are still the same as above; all we've done is shifted where we draw the internal nodes.\n",
        "\n",
        "Because a Newick file contains all the information for the connections in a tree regardless of how we draw it, rooting is typically done in the visualization stage of tree-building, rather than in the actual computational building phase. That is, FastTree is agnostic to how we draw our tree; it just tells us how much distance is between each node and leaves the rest to us. We won't spend too much time on tree visualization strategies for now, but understanding rooting is important to the interpretation of tree data.\n",
        "\n",
        "**Answer the questions below based on our discussion:**\n",
        "1. What would you expect a rooted tree to look like, if we wrote it in Newick format? Try writing out the above tree in Newick.\n",
        "2. What are some of the ways that you would go about determining a common ancestor in a tree of bacterial strains? List some of the tools you'd use, as well as an outline of the steps you would take."
      ]
    },
    {
      "cell_type": "code",
      "execution_count": null,
      "id": "7fenDqEH5BeK",
      "metadata": {
        "id": "7fenDqEH5BeK"
      },
      "outputs": [],
      "source": [
        "# Exercise 3"
      ]
    },
    {
      "cell_type": "markdown",
      "id": "wP_ElFtQ5BeK",
      "metadata": {
        "id": "wP_ElFtQ5BeK"
      },
      "source": [
        "## Part B: Homework (30 pts)"
      ]
    },
    {
      "cell_type": "markdown",
      "id": "_7jgS7g65BeK",
      "metadata": {
        "id": "_7jgS7g65BeK"
      },
      "source": [
        "In this lab, we will build two trees and compare them. The first tree will consist of a single gene that is extracted from several bacterial genomes- we'll look at how this gene differs based on the organism it comes from. The second will use a set of 7 genes that collectively define the \"Multi-Locus Sequence Type\", or MLST, or an organism. By looking at the presence or absense of each of these genes, we can essentially tell how closely or distantly related a genome is to a well-defined reference. Each reference has several well-defined characteristics, such as pathogenicity, virulence, geographic prevalance, etc., that we may be interested in for clinical studies."
      ]
    },
    {
      "cell_type": "markdown",
      "id": "aZ-j91b75BeL",
      "metadata": {
        "id": "aZ-j91b75BeL"
      },
      "source": [
        "#### Question 1: Single-gene MSA (8 pts)\n",
        "\n",
        "The `lab5/MLST` folder contains sequences from 7 genes. Choose one of these genes to build a tree.\n",
        "\n",
        "For each bacterial genome in the `lab5/genomes` folder, BLAST your chosen gene against the genome and save the sequence of the top hit. Combine the resulting sequences from all 10 genomes into a single file and use clustalw to align them; save the result in a PHYLIP file."
      ]
    },
    {
      "cell_type": "code",
      "execution_count": null,
      "id": "9Nib9wr65BeL",
      "metadata": {
        "id": "9Nib9wr65BeL"
      },
      "outputs": [],
      "source": [
        "# Question 1"
      ]
    },
    {
      "cell_type": "markdown",
      "id": "di2UK0fc5BeM",
      "metadata": {
        "id": "di2UK0fc5BeM"
      },
      "source": [
        "#### Question 2: Single-gene tree (7 pts)\n",
        "\n",
        "Use FastTree to build a tree out of your alignment from Question 1 and view it in the ETE Tree Viewer. Answer the following questions:\n",
        "1. Which two organisms are furthest away on the tree? Look these two organisms up in the NCBI database and provide some potential reasons for this.\n",
        "2. How many subtrees are present in your tree? Are there any obvious clusters you can see?\n",
        "3. What do you think this tree is saying?"
      ]
    },
    {
      "cell_type": "code",
      "execution_count": null,
      "id": "Eh1nnjyo5BeM",
      "metadata": {
        "id": "Eh1nnjyo5BeM"
      },
      "outputs": [],
      "source": [
        "# Question 2"
      ]
    },
    {
      "cell_type": "markdown",
      "id": "KZMbuq1d5BeM",
      "metadata": {
        "id": "KZMbuq1d5BeM"
      },
      "source": [
        "#### Question 3: Multi-locus tree (10 pts)\n",
        "\n",
        "Repeat Question 1, but instead of choosing a single gene, perform the BLAST search for all 7 MLST genes for every genomes (i.e., you should be performing 7 * 10 = 70 BLAST searches).\n",
        "Your pipeline should follow this logical \"pseudocode\":\n",
        "```pseudocode\n",
        "\n",
        "all_mlsts = empty list\n",
        "\n",
        "for organism in organism_list:\n",
        "\n",
        "    organism_mlst = empty fasta sequence\n",
        "    \n",
        "    for gene in gene_list:\n",
        "        blast gene against organism\n",
        "        retrieve top hit\n",
        "        extract hit sequence\n",
        "        append hit sequence to organism_mlst\n",
        "    \n",
        "    append organism_mlst to all_mlsts\n",
        "\n",
        "save all_mlsts as all_mlsts.fasta\n",
        "align all_mlsts.fasta > organism_mlst_aligned.fasta (make sure to set output format to FASTA)\n",
        "use gblocks (see below) to process organism_mlst_aligned.fasta, save as organism_mlst_conserved.aln\n",
        "    \n",
        "use fasttree to build a tree out of organism_mlst.conserved.aln > mlst.tree\n",
        "        \n",
        "```\n",
        "This code is essentially performing an MLST analysis on our genomes, and telling us which are closest according to the MLST model (see [this paper](https://www.nature.com/articles/s41598-017-04707-4#Sec2) for a similar example). We use [Gblocks](https://ngphylogeny.fr/tools/tool/276/form) in order to find conserved regions within our alignment (i.e., most of the genome will not align to the gene, and we don't need to keep that extra information). Gblocks should be used with the default settings; just upload each of your alignment files to the tool and save the output as a new alignment. All of your files should be saved in the folder `lab5/results`. Feel free to write this code either in a standalone script or within this notebook."
      ]
    },
    {
      "cell_type": "code",
      "execution_count": null,
      "id": "lGKxI0Fo5BeM",
      "metadata": {
        "id": "lGKxI0Fo5BeM"
      },
      "outputs": [],
      "source": [
        "# Question 3"
      ]
    },
    {
      "cell_type": "markdown",
      "id": "cejdrLLC5BeN",
      "metadata": {
        "id": "cejdrLLC5BeN"
      },
      "source": [
        "#### Question 4: Tree comparison (5 pts)\n",
        "\n",
        "We now have two trees. Visualize both in the ETE Tree Viewer and answer the following questions:\n",
        "1. How do the two trees compare? Are there any significant differences between the two? Describe any major shifts you see.\n",
        "2. Which tree do you think is more reliable as a measure of similarity between our organisms? Why?\n",
        "3. How would you go about rooting this tree?"
      ]
    },
    {
      "cell_type": "code",
      "execution_count": null,
      "id": "7goKEeaH5BeN",
      "metadata": {
        "id": "7goKEeaH5BeN"
      },
      "outputs": [],
      "source": [
        "# Question 4"
      ]
    }
  ],
  "metadata": {
    "colab": {
      "provenance": []
    },
    "kernelspec": {
      "display_name": "Python 3",
      "language": "python",
      "name": "python3"
    },
    "language_info": {
      "codemirror_mode": {
        "name": "ipython",
        "version": 3
      },
      "file_extension": ".py",
      "mimetype": "text/x-python",
      "name": "python",
      "nbconvert_exporter": "python",
      "pygments_lexer": "ipython3",
      "version": "3.7.4"
    }
  },
  "nbformat": 4,
  "nbformat_minor": 5
}
