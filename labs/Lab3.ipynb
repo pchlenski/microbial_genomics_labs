{
 "cells": [
  {
   "attachments": {},
   "cell_type": "markdown",
   "metadata": {},
   "source": [
    "# Microbial Genomics: Lab 3\n",
    "## Topic: Local and global sequence alignment\n",
    "#### Tools Used: Biopython, BLAST, ClustalW, MUSCLE\n",
    "Last modified on January 31, 2023 by `pchlenski`"
   ]
  },
  {
   "cell_type": "markdown",
   "metadata": {},
   "source": [
    "## Part A: Lab exercises"
   ]
  },
  {
   "cell_type": "markdown",
   "metadata": {},
   "source": [
    "### Exercise 1: Dot Plots\n",
    "Dot Plots are a simple graphical approach for the visual comparison of two sequences (see Maizel and Lenk 1981 and references). They involve placing one sequence along a vertical axis of a 2D grid, a second sequence on the horizontal axis, and looking to see where the two sequences match. \n",
    "\n",
    "More complex dot plots use additional parameters, including 'sliding windows' composed of multiple characters, and a threshold vaue (i.e. match stringency) for two windows to be considered as a match.\n",
    "\n",
    "**[This link](https://bioboot.shinyapps.io/dotplot/), created by Dr. Barry Grant at UCSD, gives a great visual demonstration of how dot plots work. Open it up, play around with the sliding bars, and answer the questions below as comments:**\n",
    "1. Why does the DNA sequence have more dots than the protein sequence plot?\n",
    "2. What does a 'Match Stringency' larger than 'Window Size' yield and why?\n",
    "3. What would off-diagonal runs of dots represent?\n",
    "4. What are the major weaknesses of this approach?"
   ]
  },
  {
   "cell_type": "code",
   "execution_count": null,
   "metadata": {},
   "outputs": [],
   "source": [
    "# Exercise 1"
   ]
  },
  {
   "attachments": {},
   "cell_type": "markdown",
   "metadata": {},
   "source": [
    "### Exercise 2: BLAST \n",
    "BLAST is a tool that performs local alignments between two sequences of interest, or a sequence and a database of sequences that contain potential matches. BLAST can be performed on nucleotide or protein sequences, but not between the two. \n",
    "\n",
    "Below are two alkane monooxygenase sequences; we are interested in comparing their similarity:\n",
    "```\n",
    ">WP_007626901.1 alkane 1-monooxygenase [Dietzia cinnamea]\n",
    "MSSTEYIRPTDGADEHQAPHAHHDHHGHDHHGHDHADVEPYAWTDAKRYLWLLGVIPAMGLFLSMPFVAGFNALGWEIPATIAWFLLPFLVYVA\n",
    "IPLGDLAIGADGENPPDEVMDKLEADPFYRWCTYLYIPFQYASLIAACYLWTADDLSWLGYDGGLGVAASIGVAWTVAITGGIGINTAHELGHK\n",
    "IAGSEKWLSKVALATTGYGHFFIEHNRGHHARVATPEDPASSRFGESFWAFLPRSVVGSLRSAWSLESERLGRLGKSPWTLRNDNLNAWLMTVV\n",
    "LFGALIAIFGWEVAPWLIVQAIFGFSLLEVVNYLEHYGLLRQKTSAGRYQRCRPEHSWNSDHLVTNIFLYHLQRHSDHHANPMRRYQMLRSFEQ\n",
    "APQLPSGYATMMVVAYIPPLWRKVMDKRVLDHYDGDITRANIQPSKREKILARYGAGSTAVAERIIADTDIAADQTSPTGEYVCPNCGNHYSEA\n",
    "AGLPREGFPPGTPWSAIPDSWQCSDCGVRDKVDFLPVK\n",
    "\n",
    ">WP_106297665.1 alkane 1-monooxygenase [Knoellia remsis]\n",
    "MTANAGTDTGANATVPQGSTQQWTDKKRYLWLIGLVVPSLAFLGIGMYELTGWKVWFWLGPIVVLGIVPAIDLVAGLDRSNPPDDVIEALEKDR\n",
    "YYRWITYAYLPIQYAGFVGAMWIIGTDAISGLTVLDKVGLAVSIGCIGGIGINTAHELGHKREANERWLSKIALAQSFYGHFYIEHNRGHHVRV\n",
    "ATPEDPASSRVGENFYQFWPRTVWGSLKSAWGLEARRIARRKQHPFRLSNDVLNAWLMSAVLWGALLLWLGWGILPYLVIQAVVGFTLLEVVNY\n",
    "MEHYGMLRQRVAYGEKSRYERVDPSHSWNSNNIATNVLLYHLQRHSDHHANPTRRYQTLRDFEESPVLPTGYAGMIVLALVPFVWRRVMDPRVL\n",
    "RHFDGDLSRANLSPRKRERLLAQYPPPVRSLVGAGPGEGGYAGAPTVEEILAARCPGCGYTYDVVAGEEREGFAAGTAWSQIPDDWCCPDCGVR\n",
    "EKVDFVAVDPQVA\n",
    "```\n",
    "\n",
    "Navigate to online BLASTP [here](https://blast.ncbi.nlm.nih.gov/Blast.cgi?PAGE=Proteins&PROGRAM=blastp&PAGE_TYPE=BlastSearch&BLAST_SPEC=blast2seq). Copy and paste the first sequence into the Query Sequence box, and the second sequence into the Subject Sequence box. Click BLAST, and answer the questions below using comments:\n",
    "1. Do these two proteins perform the same function? Why or why not? \n",
    "2. How else do you interpret the similarity of the two sequences based on the alignment metrics? \n",
    "3. Examine the dot plot - what do the observed gaps mean?\n",
    "4. Click on Edit Search at the top, and scroll down to expand the additional Algorithm Parameters by clicking the +. Change at least two of these parameters, and re-run the BLAST. Describe how the changes impacted the results, and why."
   ]
  },
  {
   "cell_type": "code",
   "execution_count": null,
   "metadata": {},
   "outputs": [],
   "source": [
    "# Exercise 2"
   ]
  },
  {
   "attachments": {},
   "cell_type": "markdown",
   "metadata": {},
   "source": [
    "### Exercise 3: Biopython Alignments\n",
    "Biopython has tools to align sequences on the command line. This allows us to run alignments without relying on NCBI servers (which can be slow) and in a more programmatic way.\n",
    "* NCBIWWW is the primary command line tool to run blast searches through Biopython over the web\n",
    "* The first argument is the blast program to use for the search, as a lower case string. The options and descriptions of the programs are available [here](https://blast.ncbi.nlm.nih.gov/Blast.cgi). Currently qblast only works with blastn, blastp, blastx, tblast and tblastx\n",
    "* The second argument specifies the databases to search against. The options for this are available in the document `HowTo_BLASTGuide.pdf`, included in the Labs folder\n",
    "* The third argument is a string containing your query sequence. This can either be the sequence itself, the sequence in fasta format, or an identifier like a GI number\n",
    "\n",
    "There are a number of very good resources on the web that describe everything from the underlying BLAST algorithm, to example pipelines and workflows. Two of the most important ones are below:\n",
    "* The NCBI BLAST command line arguments and values can be found [here](https://www.ncbi.nlm.nih.gov/books/NBK279684/table/appendices.T.options_common_to_all_blast/). This contains all the possible arguments to BLAST, as well as useful references for output formats, etc.\n",
    "* Biopython also has a BLAST command-line reference, found [here](https://biopython.org/docs/1.75/api/Bio.Blast.NCBIWWW.html). Note that the Biopython BLAST is not always exactly the same as Web UI or non-Python BLAST; when troubleshooting, make sure you're using the correct reference.\n",
    "\n",
    "Below, we'll walk through some different examples of running BLAST through Biopython."
   ]
  },
  {
   "cell_type": "code",
   "execution_count": 1,
   "metadata": {},
   "outputs": [],
   "source": [
    "# Import relevant BLAST modules\n",
    "from Bio import SearchIO, SeqIO\n",
    "from Bio.Blast import NCBIWWW, NCBIXML\n",
    "from Bio.Blast.Applications import NcbiblastpCommandline, NcbiblastnCommandline\n",
    "from io import StringIO"
   ]
  },
  {
   "cell_type": "code",
   "execution_count": null,
   "metadata": {},
   "outputs": [],
   "source": [
    "## Running BLAST via Biopython: remote blastn\n",
    "\n",
    "# Read in the nucleotide sequence\n",
    "nucl_fasta = SeqIO.read(\"lab3/katG_EC.fasta\", format=\"fasta\")\n",
    "\n",
    "# Run web BLAST: this opens a handle to the BLAST results\n",
    "# More info on handles: http://www.bioinformatics.org/bradstuff/bp/tut/Tutorial006.html\n",
    "result_handle_nuc = NCBIWWW.qblast(\"blastn\", \"nt\", nucl_fasta.seq, hitlist_size=30)\n",
    "blast_file = \"lab3/remote_blast_nuc.xml\"\n",
    "\n",
    "# Save the results to a file\n",
    "with open(blast_file, \"w\") as out_handle:\n",
    "    out_handle.write(result_handle_nuc.read())"
   ]
  },
  {
   "cell_type": "code",
   "execution_count": null,
   "metadata": {},
   "outputs": [],
   "source": [
    "## Running BLAST via Biopython: remote blastp\n",
    "\n",
    "# Read in the protein sequence\n",
    "prot_fasta = SeqIO.read(\"lab3/alkB.fasta\", format=\"fasta\")\n",
    "\n",
    "# Web BLASTp syntax is identical to blastn\n",
    "# Use 'blastp' and 'nr' as the database\n",
    "result_handle_prot = NCBIWWW.qblast(\"blastp\", \"nr\", prot_fasta.seq, hitlist_size=30)\n",
    "blast_file = \"lab3/remote_blast_prot.xml\"\n",
    "\n",
    "# Save the results to a file\n",
    "with open(blast_file, \"w\") as out_handle:\n",
    "    out_handle.write(result_handle_prot.read())"
   ]
  },
  {
   "cell_type": "code",
   "execution_count": null,
   "metadata": {},
   "outputs": [],
   "source": [
    "## Running BLAST via Biopython: local blastn\n",
    "\n",
    "# Initialize a BLASTn commandline object\n",
    "blast_local = NcbiblastnCommandline(\n",
    "    query=\"lab3/katG_EC.fasta\",\n",
    "    subject=\"lab3/katG_SE.fasta\",\n",
    "    evalue=0.001,\n",
    "    outfmt=1,\n",
    "    out=\"lab3/local_blast_output.aln\",\n",
    ")\n",
    "\n",
    "# The command line object needs to be called in order to run BLAST\n",
    "stdout, stderr = blast_local()\n",
    "\n",
    "# The output is written to the specified outfile"
   ]
  },
  {
   "cell_type": "code",
   "execution_count": null,
   "metadata": {},
   "outputs": [],
   "source": [
    "## Read in blast file and parse the records\n",
    "\n",
    "# Use the Biopython NCBI XML parser to read BLAST results:\n",
    "blast_file = \"lab3/remote_blast_nuc.xml\"\n",
    "with open(blast_file,'r') as f:\n",
    "    blast_records = list(NCBIXML.parse(f))[0]\n",
    "\n",
    "print(blast_records)"
   ]
  },
  {
   "attachments": {},
   "cell_type": "markdown",
   "metadata": {},
   "source": [
    "**Use the examples above (and any other reference/documentation you'd like) to perform the exercises below:\n",
    "1. Use the BLAST web interface to search `katG_EC.fasta` against the nucleotide (nt) database, and do the same with command-line BLAST (a few cells above does this for you). Once both finish, open up the first XML file (`remote_blast_nuc.xml`) and compare the XML file with the online results. Is there any information missing? Write your answer as a comment below.\n",
    "2. Try re-running the BLAST command from Biopython, but change the output format to try to get it as close as possible to the online results. Use Biopython references such as [this](https://biopython.org/docs/1.75/api/Bio.Blast.NCBIWWW.html) one to explore different output formats. Which one do you think is most informative?\n",
    "3. Investigate the structure of the `blast_records` variable that was created in the above cell. We want to store only the accession IDs for sequences that met our desired BLAST criteria: e-value < 0.003, percent identify > 40. Use a `for` loop to parse the XML output and store accession IDs for sequences that meet these thresholds. Note that for every BLAST output, we can caluclate e-value and % identity using the following:\n",
    "```python\n",
    "pct_id = alignment.hsps[0].identities/alignment.hsps[0].align_length*100\n",
    "e_val = alignment.hsps[0].expect\n",
    "```"
   ]
  },
  {
   "cell_type": "code",
   "execution_count": null,
   "metadata": {},
   "outputs": [],
   "source": [
    "# Exercise 3"
   ]
  },
  {
   "cell_type": "markdown",
   "metadata": {},
   "source": [
    "### Exercise 4: ClustalW \n",
    "\n",
    "ClustalW (pronounced clustal omega) is a popular command line tool for pair-wise or multiple sequence alignments. This can be accessed via Biopthon's Bio.Align.Applications module. Below, we'll align a multi-fasta file using ClustalW and Biopython."
   ]
  },
  {
   "cell_type": "code",
   "execution_count": null,
   "metadata": {},
   "outputs": [],
   "source": [
    "# Import clustalW\n",
    "from Bio.Align.Applications import ClustalwCommandline\n",
    "from Bio import AlignIO\n",
    "#help(ClustalwCommandline)\n",
    "\n",
    "# Just like BLSAT, we need to build the clustalW command line object\n",
    "cline = ClustalwCommandline(\"clustalw2\", infile=\"lab3/fused-rds_subset.fasta\")\n",
    "print(cline)\n",
    "\n",
    "# Run the command\n",
    "stdout, stderr = cline()\n",
    "\n",
    "# read our alignment back in and view it\n",
    "align = AlignIO.read(\"lab3/fused-rds_subset.aln\", \"clustal\")\n",
    "print(align)"
   ]
  },
  {
   "cell_type": "markdown",
   "metadata": {},
   "source": [
    "Note that there are a number of different aligners; each has strengths and weaknesses. Later in the course, you will have more autonomy in choosing which tool to use; make sure you have an understanding of which tool to use when! This takes some research, some knowledge about the outcome you're trying to achieve, and some experience in trying different tools out. To read about one study comparing different aligners, see [this article](https://www.frontiersin.org/articles/10.3389/fpls.2021.657240/full)."
   ]
  },
  {
   "cell_type": "markdown",
   "metadata": {},
   "source": [
    "## Part B: Homework questions"
   ]
  },
  {
   "cell_type": "markdown",
   "metadata": {},
   "source": [
    "#### Question 1: As discussed in lecture, the Needleman-Wunsh algorithm is a means of calculating an alignment between two sequences. \n",
    "Use this algorithm to calculate the optimal alignment for the sequences `MEANLY` and `PLEASANTLY`, using the [BLOSUM62 matrix](https://www.ncbi.nlm.nih.gov/Class/FieldGuide/BLOSUM62.txt) to calculate match and mistmatch costs between pairs of letters, and a gap penalty of -10. Draw (or type) the distance and back-tracking matrices and include them in your answer. Make sure to include the final alignment in your submission."
   ]
  },
  {
   "cell_type": "code",
   "execution_count": null,
   "metadata": {},
   "outputs": [],
   "source": [
    "# Question 1"
   ]
  },
  {
   "cell_type": "markdown",
   "metadata": {},
   "source": [
    "#### Question 2: Repeat Question 1, but use local alignment. Compare the two results- how are they the same or different?"
   ]
  },
  {
   "cell_type": "code",
   "execution_count": null,
   "metadata": {},
   "outputs": [],
   "source": [
    "# Question 2"
   ]
  },
  {
   "cell_type": "markdown",
   "metadata": {},
   "source": [
    "#### Question 3: Use [this online tool](https://bioinfo.lifl.fr/yass/yass.php) to create a dot-plot of the sequences contained in `katG_EC.fasta` and `katG_SE.fasta`. Upload the sequences and click \"select\" on each, and then click \"Run YASS\" to use the default parameters. Use the result to answer the following questions below:\n",
    "1. How closely related are these two sequences? Do you see any indels?\n",
    "2. What do the small off-diagonal segments mean?\n",
    "3. What can you conclude about the relationship of these sequences based on the color of the lines?\n",
    "4. Re-run the analysis but this time, use \"+1, -5\" as the scoring matrix. What does the resulting plot look like? Why? Feel free to change some other parameters and comment on what happens."
   ]
  },
  {
   "cell_type": "code",
   "execution_count": null,
   "metadata": {},
   "outputs": [],
   "source": [
    "# Question 3"
   ]
  },
  {
   "attachments": {},
   "cell_type": "markdown",
   "metadata": {},
   "source": [
    "#### Question 4: Often, we have a single sequence of interest that comes from an unknown species within a subset of possible candidates. In these cases, we may want to use BLAST to align the query sequence across several genomes, extract the best hits from each, and perform some analysis to decide which result is best suited to downstream analyses. Using this general workflow, do the following:\n",
    "1. Use Nucleotide BLAST to align `lab3/katG_EC.fasta` against the genomes contained in `lab3/sample_genomes.fasta`\n",
    "2. Loop through the top hit of each alignment and extract the corresponsing sequence\n",
    "3. Combine all hit sequences into a single multi-fasta\n",
    "4. Use CLUSTALW to align the resulting multi-fasta\n",
    "5. Visualize the alignment using Geneious (start a free trial at https://www.geneious.com/) and answer the following questions:\n",
    "    * What can you tell about the different genomes that we used BLAST against?\n",
    "    * Are there any genomes you would initially rule out based on the alignment results?\n",
    "    * How much do the different genomes effect our MUSCLE alignment?"
   ]
  },
  {
   "cell_type": "code",
   "execution_count": 2,
   "metadata": {},
   "outputs": [
    {
     "name": "stderr",
     "output_type": "stream",
     "text": [
      "/home/phil/miniconda3/envs/microbial/lib/python3.7/site-packages/Bio/SearchIO/_legacy/NCBIStandalone.py:93: BiopythonWarning: Parsing BLAST plain text output file is not a well supported functionality anymore. Consider generating your BLAST output for parsing as XML or tabular format instead.\n",
      "  BiopythonWarning,\n"
     ]
    },
    {
     "ename": "RuntimeError",
     "evalue": "generator didn't stop after throw()",
     "output_type": "error",
     "traceback": [
      "\u001b[0;31m---------------------------------------------------------------------------\u001b[0m",
      "\u001b[0;31mTypeError\u001b[0m                                 Traceback (most recent call last)",
      "\u001b[0;32m~/miniconda3/envs/microbial/lib/python3.7/site-packages/Bio/File.py\u001b[0m in \u001b[0;36mas_handle\u001b[0;34m(handleish, mode, **kwargs)\u001b[0m\n\u001b[1;32m     72\u001b[0m         \u001b[0;32mwith\u001b[0m \u001b[0mopen\u001b[0m\u001b[0;34m(\u001b[0m\u001b[0mhandleish\u001b[0m\u001b[0;34m,\u001b[0m \u001b[0mmode\u001b[0m\u001b[0;34m,\u001b[0m \u001b[0;34m**\u001b[0m\u001b[0mkwargs\u001b[0m\u001b[0;34m)\u001b[0m \u001b[0;32mas\u001b[0m \u001b[0mfp\u001b[0m\u001b[0;34m:\u001b[0m\u001b[0;34m\u001b[0m\u001b[0;34m\u001b[0m\u001b[0m\n\u001b[0;32m---> 73\u001b[0;31m             \u001b[0;32myield\u001b[0m \u001b[0mfp\u001b[0m\u001b[0;34m\u001b[0m\u001b[0;34m\u001b[0m\u001b[0m\n\u001b[0m\u001b[1;32m     74\u001b[0m     \u001b[0;32mexcept\u001b[0m \u001b[0mTypeError\u001b[0m\u001b[0;34m:\u001b[0m\u001b[0;34m\u001b[0m\u001b[0;34m\u001b[0m\u001b[0m\n",
      "\u001b[0;32m~/miniconda3/envs/microbial/lib/python3.7/site-packages/Bio/SearchIO/__init__.py\u001b[0m in \u001b[0;36mparse\u001b[0;34m(handle, format, **kwargs)\u001b[0m\n\u001b[1;32m    305\u001b[0m         \u001b[0mgenerator\u001b[0m \u001b[0;34m=\u001b[0m \u001b[0miterator\u001b[0m\u001b[0;34m(\u001b[0m\u001b[0msource_file\u001b[0m\u001b[0;34m,\u001b[0m \u001b[0;34m**\u001b[0m\u001b[0mkwargs\u001b[0m\u001b[0;34m)\u001b[0m\u001b[0;34m\u001b[0m\u001b[0;34m\u001b[0m\u001b[0m\n\u001b[0;32m--> 306\u001b[0;31m         \u001b[0;32myield\u001b[0m \u001b[0;32mfrom\u001b[0m \u001b[0mgenerator\u001b[0m\u001b[0;34m\u001b[0m\u001b[0;34m\u001b[0m\u001b[0m\n\u001b[0m\u001b[1;32m    307\u001b[0m \u001b[0;34m\u001b[0m\u001b[0m\n",
      "\u001b[0;32m~/miniconda3/envs/microbial/lib/python3.7/site-packages/Bio/SearchIO/BlastIO/blast_text.py\u001b[0m in \u001b[0;36m__iter__\u001b[0;34m(self)\u001b[0m\n\u001b[1;32m     32\u001b[0m         \u001b[0;34m\"\"\"Iterate over BlastTextParser, yields query results.\"\"\"\u001b[0m\u001b[0;34m\u001b[0m\u001b[0;34m\u001b[0m\u001b[0m\n\u001b[0;32m---> 33\u001b[0;31m         \u001b[0;32mfor\u001b[0m \u001b[0mrec\u001b[0m \u001b[0;32min\u001b[0m \u001b[0mself\u001b[0m\u001b[0;34m.\u001b[0m\u001b[0mblast_iter\u001b[0m\u001b[0;34m:\u001b[0m\u001b[0;34m\u001b[0m\u001b[0;34m\u001b[0m\u001b[0m\n\u001b[0m\u001b[1;32m     34\u001b[0m             \u001b[0;31m# set attributes to SearchIO's\u001b[0m\u001b[0;34m\u001b[0m\u001b[0;34m\u001b[0m\u001b[0;34m\u001b[0m\u001b[0m\n",
      "\u001b[0;32m~/miniconda3/envs/microbial/lib/python3.7/site-packages/Bio/SearchIO/_legacy/NCBIStandalone.py\u001b[0m in \u001b[0;36m__next__\u001b[0;34m(self)\u001b[0m\n\u001b[1;32m   1792\u001b[0m         \u001b[0;32mif\u001b[0m \u001b[0mself\u001b[0m\u001b[0;34m.\u001b[0m\u001b[0m_parser\u001b[0m \u001b[0;32mis\u001b[0m \u001b[0;32mnot\u001b[0m \u001b[0;32mNone\u001b[0m\u001b[0;34m:\u001b[0m\u001b[0;34m\u001b[0m\u001b[0;34m\u001b[0m\u001b[0m\n\u001b[0;32m-> 1793\u001b[0;31m             \u001b[0;32mreturn\u001b[0m \u001b[0mself\u001b[0m\u001b[0;34m.\u001b[0m\u001b[0m_parser\u001b[0m\u001b[0;34m.\u001b[0m\u001b[0mparse\u001b[0m\u001b[0;34m(\u001b[0m\u001b[0mStringIO\u001b[0m\u001b[0;34m(\u001b[0m\u001b[0mdata\u001b[0m\u001b[0;34m)\u001b[0m\u001b[0;34m)\u001b[0m\u001b[0;34m\u001b[0m\u001b[0;34m\u001b[0m\u001b[0m\n\u001b[0m\u001b[1;32m   1794\u001b[0m         \u001b[0;32mreturn\u001b[0m \u001b[0mdata\u001b[0m\u001b[0;34m\u001b[0m\u001b[0;34m\u001b[0m\u001b[0m\n",
      "\u001b[0;32m~/miniconda3/envs/microbial/lib/python3.7/site-packages/Bio/SearchIO/_legacy/NCBIStandalone.py\u001b[0m in \u001b[0;36mparse\u001b[0;34m(self, handle)\u001b[0m\n\u001b[1;32m    858\u001b[0m         \u001b[0;34m\"\"\"Parse BLAST handle into a Record.Blast object.\"\"\"\u001b[0m\u001b[0;34m\u001b[0m\u001b[0;34m\u001b[0m\u001b[0m\n\u001b[0;32m--> 859\u001b[0;31m         \u001b[0mself\u001b[0m\u001b[0;34m.\u001b[0m\u001b[0m_scanner\u001b[0m\u001b[0;34m.\u001b[0m\u001b[0mfeed\u001b[0m\u001b[0;34m(\u001b[0m\u001b[0mhandle\u001b[0m\u001b[0;34m,\u001b[0m \u001b[0mself\u001b[0m\u001b[0;34m.\u001b[0m\u001b[0m_consumer\u001b[0m\u001b[0;34m)\u001b[0m\u001b[0;34m\u001b[0m\u001b[0;34m\u001b[0m\u001b[0m\n\u001b[0m\u001b[1;32m    860\u001b[0m         \u001b[0;32mreturn\u001b[0m \u001b[0mself\u001b[0m\u001b[0;34m.\u001b[0m\u001b[0m_consumer\u001b[0m\u001b[0;34m.\u001b[0m\u001b[0mdata\u001b[0m\u001b[0;34m\u001b[0m\u001b[0;34m\u001b[0m\u001b[0m\n",
      "\u001b[0;32m~/miniconda3/envs/microbial/lib/python3.7/site-packages/Bio/SearchIO/_legacy/NCBIStandalone.py\u001b[0m in \u001b[0;36mfeed\u001b[0;34m(self, handle, consumer)\u001b[0m\n\u001b[1;32m    112\u001b[0m         \u001b[0mself\u001b[0m\u001b[0;34m.\u001b[0m\u001b[0m_scan_header\u001b[0m\u001b[0;34m(\u001b[0m\u001b[0muhandle\u001b[0m\u001b[0;34m,\u001b[0m \u001b[0mconsumer\u001b[0m\u001b[0;34m)\u001b[0m\u001b[0;34m\u001b[0m\u001b[0;34m\u001b[0m\u001b[0m\n\u001b[0;32m--> 113\u001b[0;31m         \u001b[0mself\u001b[0m\u001b[0;34m.\u001b[0m\u001b[0m_scan_rounds\u001b[0m\u001b[0;34m(\u001b[0m\u001b[0muhandle\u001b[0m\u001b[0;34m,\u001b[0m \u001b[0mconsumer\u001b[0m\u001b[0;34m)\u001b[0m\u001b[0;34m\u001b[0m\u001b[0;34m\u001b[0m\u001b[0m\n\u001b[0m\u001b[1;32m    114\u001b[0m         \u001b[0mself\u001b[0m\u001b[0;34m.\u001b[0m\u001b[0m_scan_database_report\u001b[0m\u001b[0;34m(\u001b[0m\u001b[0muhandle\u001b[0m\u001b[0;34m,\u001b[0m \u001b[0mconsumer\u001b[0m\u001b[0;34m)\u001b[0m\u001b[0;34m\u001b[0m\u001b[0;34m\u001b[0m\u001b[0m\n",
      "\u001b[0;32m~/miniconda3/envs/microbial/lib/python3.7/site-packages/Bio/SearchIO/_legacy/NCBIStandalone.py\u001b[0m in \u001b[0;36m_scan_rounds\u001b[0;34m(self, uhandle, consumer)\u001b[0m\n\u001b[1;32m    256\u001b[0m             \u001b[0mself\u001b[0m\u001b[0;34m.\u001b[0m\u001b[0m_scan_descriptions\u001b[0m\u001b[0;34m(\u001b[0m\u001b[0muhandle\u001b[0m\u001b[0;34m,\u001b[0m \u001b[0mconsumer\u001b[0m\u001b[0;34m)\u001b[0m\u001b[0;34m\u001b[0m\u001b[0;34m\u001b[0m\u001b[0m\n\u001b[0;32m--> 257\u001b[0;31m             \u001b[0mself\u001b[0m\u001b[0;34m.\u001b[0m\u001b[0m_scan_alignments\u001b[0m\u001b[0;34m(\u001b[0m\u001b[0muhandle\u001b[0m\u001b[0;34m,\u001b[0m \u001b[0mconsumer\u001b[0m\u001b[0;34m)\u001b[0m\u001b[0;34m\u001b[0m\u001b[0;34m\u001b[0m\u001b[0m\n\u001b[0m\u001b[1;32m    258\u001b[0m \u001b[0;34m\u001b[0m\u001b[0m\n",
      "\u001b[0;32m~/miniconda3/envs/microbial/lib/python3.7/site-packages/Bio/SearchIO/_legacy/NCBIStandalone.py\u001b[0m in \u001b[0;36m_scan_alignments\u001b[0;34m(self, uhandle, consumer)\u001b[0m\n\u001b[1;32m    417\u001b[0m             \u001b[0;31m# XXX put in a check to make sure I'm in a masterslave alignment\u001b[0m\u001b[0;34m\u001b[0m\u001b[0;34m\u001b[0m\u001b[0;34m\u001b[0m\u001b[0m\n\u001b[0;32m--> 418\u001b[0;31m             \u001b[0mself\u001b[0m\u001b[0;34m.\u001b[0m\u001b[0m_scan_masterslave_alignment\u001b[0m\u001b[0;34m(\u001b[0m\u001b[0muhandle\u001b[0m\u001b[0;34m,\u001b[0m \u001b[0mconsumer\u001b[0m\u001b[0;34m)\u001b[0m\u001b[0;34m\u001b[0m\u001b[0;34m\u001b[0m\u001b[0m\n\u001b[0m\u001b[1;32m    419\u001b[0m \u001b[0;34m\u001b[0m\u001b[0m\n",
      "\u001b[0;32m~/miniconda3/envs/microbial/lib/python3.7/site-packages/Bio/SearchIO/_legacy/NCBIStandalone.py\u001b[0m in \u001b[0;36m_scan_masterslave_alignment\u001b[0;34m(self, uhandle, consumer)\u001b[0m\n\u001b[1;32m    540\u001b[0m             \u001b[0;32melse\u001b[0m\u001b[0;34m:\u001b[0m\u001b[0;34m\u001b[0m\u001b[0;34m\u001b[0m\u001b[0m\n\u001b[0;32m--> 541\u001b[0;31m                 \u001b[0mconsumer\u001b[0m\u001b[0;34m.\u001b[0m\u001b[0mmultalign\u001b[0m\u001b[0;34m(\u001b[0m\u001b[0mline\u001b[0m\u001b[0;34m)\u001b[0m\u001b[0;34m\u001b[0m\u001b[0;34m\u001b[0m\u001b[0m\n\u001b[0m\u001b[1;32m    542\u001b[0m         \u001b[0mread_and_call_while\u001b[0m\u001b[0;34m(\u001b[0m\u001b[0muhandle\u001b[0m\u001b[0;34m,\u001b[0m \u001b[0mconsumer\u001b[0m\u001b[0;34m.\u001b[0m\u001b[0mnoevent\u001b[0m\u001b[0;34m,\u001b[0m \u001b[0mblank\u001b[0m\u001b[0;34m=\u001b[0m\u001b[0;36m1\u001b[0m\u001b[0;34m)\u001b[0m\u001b[0;34m\u001b[0m\u001b[0;34m\u001b[0m\u001b[0m\n",
      "\u001b[0;32m~/miniconda3/envs/microbial/lib/python3.7/site-packages/Bio/SearchIO/_legacy/NCBIStandalone.py\u001b[0m in \u001b[0;36mmultalign\u001b[0;34m(self, line)\u001b[0m\n\u001b[1;32m   1073\u001b[0m         \u001b[0;31m# Extract the information from the line\u001b[0m\u001b[0;34m\u001b[0m\u001b[0;34m\u001b[0m\u001b[0;34m\u001b[0m\u001b[0m\n\u001b[0;32m-> 1074\u001b[0;31m         \u001b[0mname\u001b[0m \u001b[0;34m=\u001b[0m \u001b[0mline\u001b[0m\u001b[0;34m[\u001b[0m\u001b[0;34m:\u001b[0m \u001b[0mself\u001b[0m\u001b[0;34m.\u001b[0m\u001b[0m_name_length\u001b[0m\u001b[0;34m]\u001b[0m\u001b[0;34m\u001b[0m\u001b[0;34m\u001b[0m\u001b[0m\n\u001b[0m\u001b[1;32m   1075\u001b[0m         \u001b[0mname\u001b[0m \u001b[0;34m=\u001b[0m \u001b[0mname\u001b[0m\u001b[0;34m.\u001b[0m\u001b[0mrstrip\u001b[0m\u001b[0;34m(\u001b[0m\u001b[0;34m)\u001b[0m\u001b[0;34m\u001b[0m\u001b[0;34m\u001b[0m\u001b[0m\n",
      "\u001b[0;31mTypeError\u001b[0m: slice indices must be integers or None or have an __index__ method",
      "\nDuring handling of the above exception, another exception occurred:\n",
      "\u001b[0;31mRuntimeError\u001b[0m                              Traceback (most recent call last)",
      "\u001b[0;32m<ipython-input-2-c98980db8ae5>\u001b[0m in \u001b[0;36m<module>\u001b[0;34m\u001b[0m\n\u001b[1;32m     17\u001b[0m \u001b[0;34m\u001b[0m\u001b[0m\n\u001b[1;32m     18\u001b[0m \u001b[0;31m# result = SearchIO.read(\"lab3/blastn_output.xml\", \"blast-xml\")\u001b[0m\u001b[0;34m\u001b[0m\u001b[0;34m\u001b[0m\u001b[0;34m\u001b[0m\u001b[0m\n\u001b[0;32m---> 19\u001b[0;31m \u001b[0mresult_aln\u001b[0m \u001b[0;34m=\u001b[0m \u001b[0mSearchIO\u001b[0m\u001b[0;34m.\u001b[0m\u001b[0mread\u001b[0m\u001b[0;34m(\u001b[0m\u001b[0;34m\"lab3/blastn_output.aln\"\u001b[0m\u001b[0;34m,\u001b[0m \u001b[0;34m\"blast-text\"\u001b[0m\u001b[0;34m)\u001b[0m\u001b[0;34m\u001b[0m\u001b[0;34m\u001b[0m\u001b[0m\n\u001b[0m",
      "\u001b[0;32m~/miniconda3/envs/microbial/lib/python3.7/site-packages/Bio/SearchIO/__init__.py\u001b[0m in \u001b[0;36mread\u001b[0;34m(handle, format, **kwargs)\u001b[0m\n\u001b[1;32m    346\u001b[0m \u001b[0;34m\u001b[0m\u001b[0m\n\u001b[1;32m    347\u001b[0m     \u001b[0;32mtry\u001b[0m\u001b[0;34m:\u001b[0m\u001b[0;34m\u001b[0m\u001b[0;34m\u001b[0m\u001b[0m\n\u001b[0;32m--> 348\u001b[0;31m         \u001b[0mquery_result\u001b[0m \u001b[0;34m=\u001b[0m \u001b[0mnext\u001b[0m\u001b[0;34m(\u001b[0m\u001b[0mquery_results\u001b[0m\u001b[0;34m)\u001b[0m\u001b[0;34m\u001b[0m\u001b[0;34m\u001b[0m\u001b[0m\n\u001b[0m\u001b[1;32m    349\u001b[0m     \u001b[0;32mexcept\u001b[0m \u001b[0mStopIteration\u001b[0m\u001b[0;34m:\u001b[0m\u001b[0;34m\u001b[0m\u001b[0;34m\u001b[0m\u001b[0m\n\u001b[1;32m    350\u001b[0m         \u001b[0;32mraise\u001b[0m \u001b[0mValueError\u001b[0m\u001b[0;34m(\u001b[0m\u001b[0;34m\"No query results found in handle\"\u001b[0m\u001b[0;34m)\u001b[0m \u001b[0;32mfrom\u001b[0m \u001b[0;32mNone\u001b[0m\u001b[0;34m\u001b[0m\u001b[0;34m\u001b[0m\u001b[0m\n",
      "\u001b[0;32m~/miniconda3/envs/microbial/lib/python3.7/site-packages/Bio/SearchIO/__init__.py\u001b[0m in \u001b[0;36mparse\u001b[0;34m(handle, format, **kwargs)\u001b[0m\n\u001b[1;32m    304\u001b[0m     \u001b[0;32mwith\u001b[0m \u001b[0mas_handle\u001b[0m\u001b[0;34m(\u001b[0m\u001b[0mhandle\u001b[0m\u001b[0;34m,\u001b[0m \u001b[0;34m**\u001b[0m\u001b[0mhandle_kwargs\u001b[0m\u001b[0;34m)\u001b[0m \u001b[0;32mas\u001b[0m \u001b[0msource_file\u001b[0m\u001b[0;34m:\u001b[0m\u001b[0;34m\u001b[0m\u001b[0;34m\u001b[0m\u001b[0m\n\u001b[1;32m    305\u001b[0m         \u001b[0mgenerator\u001b[0m \u001b[0;34m=\u001b[0m \u001b[0miterator\u001b[0m\u001b[0;34m(\u001b[0m\u001b[0msource_file\u001b[0m\u001b[0;34m,\u001b[0m \u001b[0;34m**\u001b[0m\u001b[0mkwargs\u001b[0m\u001b[0;34m)\u001b[0m\u001b[0;34m\u001b[0m\u001b[0;34m\u001b[0m\u001b[0m\n\u001b[0;32m--> 306\u001b[0;31m         \u001b[0;32myield\u001b[0m \u001b[0;32mfrom\u001b[0m \u001b[0mgenerator\u001b[0m\u001b[0;34m\u001b[0m\u001b[0;34m\u001b[0m\u001b[0m\n\u001b[0m\u001b[1;32m    307\u001b[0m \u001b[0;34m\u001b[0m\u001b[0m\n\u001b[1;32m    308\u001b[0m \u001b[0;34m\u001b[0m\u001b[0m\n",
      "\u001b[0;32m~/miniconda3/envs/microbial/lib/python3.7/contextlib.py\u001b[0m in \u001b[0;36m__exit__\u001b[0;34m(self, type, value, traceback)\u001b[0m\n\u001b[1;32m    159\u001b[0m                     \u001b[0;32mreturn\u001b[0m \u001b[0;32mFalse\u001b[0m\u001b[0;34m\u001b[0m\u001b[0;34m\u001b[0m\u001b[0m\n\u001b[1;32m    160\u001b[0m                 \u001b[0;32mraise\u001b[0m\u001b[0;34m\u001b[0m\u001b[0;34m\u001b[0m\u001b[0m\n\u001b[0;32m--> 161\u001b[0;31m             \u001b[0;32mraise\u001b[0m \u001b[0mRuntimeError\u001b[0m\u001b[0;34m(\u001b[0m\u001b[0;34m\"generator didn't stop after throw()\"\u001b[0m\u001b[0;34m)\u001b[0m\u001b[0;34m\u001b[0m\u001b[0;34m\u001b[0m\u001b[0m\n\u001b[0m\u001b[1;32m    162\u001b[0m \u001b[0;34m\u001b[0m\u001b[0m\n\u001b[1;32m    163\u001b[0m \u001b[0;34m\u001b[0m\u001b[0m\n",
      "\u001b[0;31mRuntimeError\u001b[0m: generator didn't stop after throw()"
     ]
    }
   ],
   "source": [
    "# Question 4\n",
    "\n",
    "from Bio.Blast.Applications import NcbiblastnCommandline\n",
    "# from Bio.Blast import NCBIXML\n",
    "from Bio import SearchIO\n",
    "\n",
    "cline = NcbiblastnCommandline(\n",
    "    query=\"lab3/katG_EC.fasta\",\n",
    "    subject=\"lab3/sample_genomes.fasta\",\n",
    "    outfmt=5,\n",
    "    out=\"lab3/blastn_output.xml\",\n",
    ")\n",
    "#     outfmt=1,\n",
    "#     out=\"lab3/blastn_output.aln\",\n",
    "# )\n",
    "\n",
    "stdout, stderr = cline()\n",
    "\n",
    "# result = SearchIO.read(\"lab3/blastn_output.xml\", \"blast-xml\")\n",
    "result_aln = SearchIO.read(\"lab3/blastn_output.aln\", \"blast-tab\")"
   ]
  },
  {
   "cell_type": "code",
   "execution_count": 25,
   "metadata": {},
   "outputs": [
    {
     "data": {
      "text/plain": [
       "4"
      ]
     },
     "execution_count": 25,
     "metadata": {},
     "output_type": "execute_result"
    }
   ],
   "source": [
    "# The SeqIO way:\n",
    "from Bio import SeqIO\n",
    "\n",
    "seqio_records = []\n",
    "for hit in result:\n",
    "    # print(f\">{hit.id}\")\n",
    "    seq = hit.hsps[0].hit.seq\n",
    "    seqio_records.append(SeqIO.SeqRecord(seq, id=hit.id, description=\"\"))\n",
    "\n",
    "SeqIO.write(seqio_records, \"lab3/blastn_output_seqio.fasta\", \"fasta\")"
   ]
  },
  {
   "cell_type": "code",
   "execution_count": null,
   "metadata": {},
   "outputs": [],
   "source": []
  }
 ],
 "metadata": {
  "kernelspec": {
   "display_name": "microbial",
   "language": "python",
   "name": "python3"
  },
  "language_info": {
   "codemirror_mode": {
    "name": "ipython",
    "version": 3
   },
   "file_extension": ".py",
   "mimetype": "text/x-python",
   "name": "python",
   "nbconvert_exporter": "python",
   "pygments_lexer": "ipython3",
   "version": "3.7.15"
  },
  "vscode": {
   "interpreter": {
    "hash": "07be66c34d984872e345db2ad02f6d20f7f29f07a7af7dab091398d66c9188ac"
   }
  }
 },
 "nbformat": 4,
 "nbformat_minor": 2
}
